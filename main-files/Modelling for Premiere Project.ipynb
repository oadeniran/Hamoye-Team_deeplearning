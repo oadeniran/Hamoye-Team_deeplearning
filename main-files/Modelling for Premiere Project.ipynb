{
 "cells": [
  {
   "cell_type": "markdown",
   "id": "c5154431",
   "metadata": {},
   "source": [
    "### Import Relevant Libraries"
   ]
  },
  {
   "cell_type": "code",
   "execution_count": 1,
   "id": "e11d06f2",
   "metadata": {
    "ExecuteTime": {
     "end_time": "2022-08-19T22:04:24.762732Z",
     "start_time": "2022-08-19T22:04:21.605294Z"
    }
   },
   "outputs": [],
   "source": [
    "import pandas as pd\n",
    "import matplotlib.pyplot as plt\n",
    "import seaborn as sns\n",
    "sns.set()\n",
    "\n",
    "\n",
    "from sklearn.linear_model import LinearRegression, Ridge, Lasso\n",
    "from sklearn.tree import DecisionTreeRegressor\n",
    "from sklearn.ensemble import RandomForestRegressor\n",
    "from sklearn.model_selection import train_test_split\n",
    "from sklearn import preprocessing\n",
    "from sklearn.metrics import r2_score, mean_absolute_error, mean_squared_error\n",
    "from sklearn.model_selection import train_test_split\n",
    "from sklearn.preprocessing import MinMaxScaler\n",
    "from statsmodels.graphics.correlation import plot_corr\n",
    "import statsmodels.formula.api as smf\n",
    "import statsmodels.api as sm\n",
    "from sklearn.preprocessing import LabelEncoder\n",
    "import warnings\n",
    "warnings.filterwarnings('ignore')\n",
    "%matplotlib inline"
   ]
  },
  {
   "cell_type": "code",
   "execution_count": 2,
   "id": "bbe0a26a",
   "metadata": {
    "ExecuteTime": {
     "end_time": "2022-08-19T22:04:24.795714Z",
     "start_time": "2022-08-19T22:04:24.765731Z"
    }
   },
   "outputs": [],
   "source": [
    "df_model = pd.read_csv('df_combined.csv')"
   ]
  },
  {
   "cell_type": "code",
   "execution_count": 3,
   "id": "21e7ae67",
   "metadata": {
    "ExecuteTime": {
     "end_time": "2022-08-19T22:04:24.922640Z",
     "start_time": "2022-08-19T22:04:24.799711Z"
    }
   },
   "outputs": [
    {
     "data": {
      "text/html": [
       "<div>\n",
       "<style scoped>\n",
       "    .dataframe tbody tr th:only-of-type {\n",
       "        vertical-align: middle;\n",
       "    }\n",
       "\n",
       "    .dataframe tbody tr th {\n",
       "        vertical-align: top;\n",
       "    }\n",
       "\n",
       "    .dataframe thead th {\n",
       "        text-align: right;\n",
       "    }\n",
       "</style>\n",
       "<table border=\"1\" class=\"dataframe\">\n",
       "  <thead>\n",
       "    <tr style=\"text-align: right;\">\n",
       "      <th></th>\n",
       "      <th>Classification_Size</th>\n",
       "      <th>Classification_Focus</th>\n",
       "      <th>Research_Intensity</th>\n",
       "      <th>Status</th>\n",
       "      <th>Academic_Reputation_Score</th>\n",
       "      <th>Employer_Reputation_Score</th>\n",
       "      <th>Faculty_Student_Score</th>\n",
       "      <th>Citations_Per_Faculty_Score</th>\n",
       "      <th>International_Faculty_Score</th>\n",
       "      <th>International_Student_Score</th>\n",
       "      <th>Overall_Score</th>\n",
       "    </tr>\n",
       "  </thead>\n",
       "  <tbody>\n",
       "    <tr>\n",
       "      <th>0</th>\n",
       "      <td>M</td>\n",
       "      <td>CO</td>\n",
       "      <td>VH</td>\n",
       "      <td>B</td>\n",
       "      <td>100.0</td>\n",
       "      <td>100.0</td>\n",
       "      <td>100.0</td>\n",
       "      <td>99.9</td>\n",
       "      <td>100.0</td>\n",
       "      <td>96.1</td>\n",
       "      <td>100.0</td>\n",
       "    </tr>\n",
       "    <tr>\n",
       "      <th>1</th>\n",
       "      <td>L</td>\n",
       "      <td>FC</td>\n",
       "      <td>VH</td>\n",
       "      <td>B</td>\n",
       "      <td>100.0</td>\n",
       "      <td>100.0</td>\n",
       "      <td>100.0</td>\n",
       "      <td>99.4</td>\n",
       "      <td>99.6</td>\n",
       "      <td>72.7</td>\n",
       "      <td>98.7</td>\n",
       "    </tr>\n",
       "    <tr>\n",
       "      <th>2</th>\n",
       "      <td>L</td>\n",
       "      <td>FC</td>\n",
       "      <td>VH</td>\n",
       "      <td>B</td>\n",
       "      <td>100.0</td>\n",
       "      <td>100.0</td>\n",
       "      <td>98.3</td>\n",
       "      <td>99.9</td>\n",
       "      <td>96.5</td>\n",
       "      <td>75.2</td>\n",
       "      <td>98.4</td>\n",
       "    </tr>\n",
       "    <tr>\n",
       "      <th>3</th>\n",
       "      <td>S</td>\n",
       "      <td>CO</td>\n",
       "      <td>VH</td>\n",
       "      <td>B</td>\n",
       "      <td>99.5</td>\n",
       "      <td>85.4</td>\n",
       "      <td>100.0</td>\n",
       "      <td>100.0</td>\n",
       "      <td>93.4</td>\n",
       "      <td>89.2</td>\n",
       "      <td>97.7</td>\n",
       "    </tr>\n",
       "    <tr>\n",
       "      <th>4</th>\n",
       "      <td>L</td>\n",
       "      <td>FC</td>\n",
       "      <td>VH</td>\n",
       "      <td>A</td>\n",
       "      <td>100.0</td>\n",
       "      <td>100.0</td>\n",
       "      <td>100.0</td>\n",
       "      <td>78.3</td>\n",
       "      <td>97.4</td>\n",
       "      <td>97.7</td>\n",
       "      <td>95.6</td>\n",
       "    </tr>\n",
       "    <tr>\n",
       "      <th>...</th>\n",
       "      <td>...</td>\n",
       "      <td>...</td>\n",
       "      <td>...</td>\n",
       "      <td>...</td>\n",
       "      <td>...</td>\n",
       "      <td>...</td>\n",
       "      <td>...</td>\n",
       "      <td>...</td>\n",
       "      <td>...</td>\n",
       "      <td>...</td>\n",
       "      <td>...</td>\n",
       "    </tr>\n",
       "    <tr>\n",
       "      <th>2498</th>\n",
       "      <td>L</td>\n",
       "      <td>FO</td>\n",
       "      <td>VH</td>\n",
       "      <td>A</td>\n",
       "      <td>34.9</td>\n",
       "      <td>25.1</td>\n",
       "      <td>28.8</td>\n",
       "      <td>24.6</td>\n",
       "      <td>13.4</td>\n",
       "      <td>47.4</td>\n",
       "      <td>9.1</td>\n",
       "    </tr>\n",
       "    <tr>\n",
       "      <th>2499</th>\n",
       "      <td>L</td>\n",
       "      <td>FO</td>\n",
       "      <td>VH</td>\n",
       "      <td>A</td>\n",
       "      <td>34.6</td>\n",
       "      <td>26.8</td>\n",
       "      <td>26.3</td>\n",
       "      <td>28.8</td>\n",
       "      <td>36.0</td>\n",
       "      <td>2.6</td>\n",
       "      <td>9.0</td>\n",
       "    </tr>\n",
       "    <tr>\n",
       "      <th>2500</th>\n",
       "      <td>XL</td>\n",
       "      <td>FO</td>\n",
       "      <td>VH</td>\n",
       "      <td>A</td>\n",
       "      <td>31.9</td>\n",
       "      <td>21.7</td>\n",
       "      <td>34.4</td>\n",
       "      <td>18.9</td>\n",
       "      <td>44.1</td>\n",
       "      <td>7.2</td>\n",
       "      <td>9.0</td>\n",
       "    </tr>\n",
       "    <tr>\n",
       "      <th>2501</th>\n",
       "      <td>M</td>\n",
       "      <td>CO</td>\n",
       "      <td>HI</td>\n",
       "      <td>B</td>\n",
       "      <td>33.3</td>\n",
       "      <td>18.4</td>\n",
       "      <td>39.2</td>\n",
       "      <td>21.9</td>\n",
       "      <td>100.0</td>\n",
       "      <td>40.6</td>\n",
       "      <td>9.0</td>\n",
       "    </tr>\n",
       "    <tr>\n",
       "      <th>2502</th>\n",
       "      <td>L</td>\n",
       "      <td>FC</td>\n",
       "      <td>HI</td>\n",
       "      <td>C</td>\n",
       "      <td>17.0</td>\n",
       "      <td>22.9</td>\n",
       "      <td>16.6</td>\n",
       "      <td>23.4</td>\n",
       "      <td>21.9</td>\n",
       "      <td>26.6</td>\n",
       "      <td>9.0</td>\n",
       "    </tr>\n",
       "  </tbody>\n",
       "</table>\n",
       "<p>2503 rows × 11 columns</p>\n",
       "</div>"
      ],
      "text/plain": [
       "     Classification_Size Classification_Focus Research_Intensity Status  \\\n",
       "0                      M                   CO                 VH      B   \n",
       "1                      L                   FC                 VH      B   \n",
       "2                      L                   FC                 VH      B   \n",
       "3                      S                   CO                 VH      B   \n",
       "4                      L                   FC                 VH      A   \n",
       "...                  ...                  ...                ...    ...   \n",
       "2498                   L                   FO                 VH      A   \n",
       "2499                   L                   FO                 VH      A   \n",
       "2500                  XL                   FO                 VH      A   \n",
       "2501                   M                   CO                 HI      B   \n",
       "2502                   L                   FC                 HI      C   \n",
       "\n",
       "      Academic_Reputation_Score  Employer_Reputation_Score  \\\n",
       "0                         100.0                      100.0   \n",
       "1                         100.0                      100.0   \n",
       "2                         100.0                      100.0   \n",
       "3                          99.5                       85.4   \n",
       "4                         100.0                      100.0   \n",
       "...                         ...                        ...   \n",
       "2498                       34.9                       25.1   \n",
       "2499                       34.6                       26.8   \n",
       "2500                       31.9                       21.7   \n",
       "2501                       33.3                       18.4   \n",
       "2502                       17.0                       22.9   \n",
       "\n",
       "      Faculty_Student_Score  Citations_Per_Faculty_Score  \\\n",
       "0                     100.0                         99.9   \n",
       "1                     100.0                         99.4   \n",
       "2                      98.3                         99.9   \n",
       "3                     100.0                        100.0   \n",
       "4                     100.0                         78.3   \n",
       "...                     ...                          ...   \n",
       "2498                   28.8                         24.6   \n",
       "2499                   26.3                         28.8   \n",
       "2500                   34.4                         18.9   \n",
       "2501                   39.2                         21.9   \n",
       "2502                   16.6                         23.4   \n",
       "\n",
       "      International_Faculty_Score  International_Student_Score  Overall_Score  \n",
       "0                           100.0                         96.1          100.0  \n",
       "1                            99.6                         72.7           98.7  \n",
       "2                            96.5                         75.2           98.4  \n",
       "3                            93.4                         89.2           97.7  \n",
       "4                            97.4                         97.7           95.6  \n",
       "...                           ...                          ...            ...  \n",
       "2498                         13.4                         47.4            9.1  \n",
       "2499                         36.0                          2.6            9.0  \n",
       "2500                         44.1                          7.2            9.0  \n",
       "2501                        100.0                         40.6            9.0  \n",
       "2502                         21.9                         26.6            9.0  \n",
       "\n",
       "[2503 rows x 11 columns]"
      ]
     },
     "execution_count": 3,
     "metadata": {},
     "output_type": "execute_result"
    }
   ],
   "source": [
    "df_model"
   ]
  },
  {
   "cell_type": "code",
   "execution_count": 4,
   "id": "e8721e17",
   "metadata": {
    "ExecuteTime": {
     "end_time": "2022-08-19T22:04:25.034580Z",
     "start_time": "2022-08-19T22:04:24.926639Z"
    }
   },
   "outputs": [
    {
     "name": "stdout",
     "output_type": "stream",
     "text": [
      "<class 'pandas.core.frame.DataFrame'>\n",
      "RangeIndex: 2503 entries, 0 to 2502\n",
      "Data columns (total 11 columns):\n",
      " #   Column                       Non-Null Count  Dtype  \n",
      "---  ------                       --------------  -----  \n",
      " 0   Classification_Size          2503 non-null   object \n",
      " 1   Classification_Focus         2503 non-null   object \n",
      " 2   Research_Intensity           2503 non-null   object \n",
      " 3   Status                       2503 non-null   object \n",
      " 4   Academic_Reputation_Score    2503 non-null   float64\n",
      " 5   Employer_Reputation_Score    2503 non-null   float64\n",
      " 6   Faculty_Student_Score        2503 non-null   float64\n",
      " 7   Citations_Per_Faculty_Score  2503 non-null   float64\n",
      " 8   International_Faculty_Score  2503 non-null   float64\n",
      " 9   International_Student_Score  2503 non-null   float64\n",
      " 10  Overall_Score                2503 non-null   float64\n",
      "dtypes: float64(7), object(4)\n",
      "memory usage: 215.2+ KB\n"
     ]
    }
   ],
   "source": [
    "df_model.info()"
   ]
  },
  {
   "cell_type": "markdown",
   "id": "26ed7630",
   "metadata": {},
   "source": [
    "### Feature Selction"
   ]
  },
  {
   "cell_type": "markdown",
   "id": "f4ed87d7",
   "metadata": {},
   "source": [
    "#### Mutual Information Scoring\n",
    "Mutual information scores are used to check how much of an impact an attribute has on predicting an instance's class. The higher the mutual information score, the more an attribute's impact on classification.\n",
    "\n",
    "The scikit-learn algorithm for MI treats discrete features differently from continuous features. Consequently, you need to tell it which are which. As a rule of thumb, anything that must have a float dtype is not discrete. Categoricals (object or categorial dtype) can be treated as discrete by giving them a label encoding."
   ]
  },
  {
   "cell_type": "code",
   "execution_count": 5,
   "id": "310bf45f",
   "metadata": {
    "ExecuteTime": {
     "end_time": "2022-08-19T22:04:25.225467Z",
     "start_time": "2022-08-19T22:04:25.037576Z"
    }
   },
   "outputs": [],
   "source": [
    "X = df_model.copy()\n",
    "y = X.pop('Overall_Score')\n",
    "\n",
    "# Label encoding for categoricals\n",
    "for colname in X.select_dtypes('object'):\n",
    "    X[colname], _ = X[colname].str.strip(\"?\").factorize() # ValueError: Length of values (2) does not match length of index (205)\n",
    "    \n",
    "# All discrete features should now have integer dtypes\n",
    "#(double-check this before using MI!)\n",
    "discrete_features = X.dtypes == int"
   ]
  },
  {
   "cell_type": "markdown",
   "id": "9582ac78",
   "metadata": {},
   "source": [
    "Scikit-learn has two mutual information metrics in its feature_selection module: one for real-valued targets (mutual_info_regression) and one for categorical targets (mutual_info_classif). Our target, price, is real-valued. The next cell computes the MI scores for our features and wraps them up in a nice dataframe."
   ]
  },
  {
   "cell_type": "code",
   "execution_count": 6,
   "id": "b0af7544",
   "metadata": {
    "ExecuteTime": {
     "end_time": "2022-08-19T22:04:25.671211Z",
     "start_time": "2022-08-19T22:04:25.228466Z"
    }
   },
   "outputs": [
    {
     "data": {
      "text/plain": [
       "Academic_Reputation_Score      0.595338\n",
       "Employer_Reputation_Score      0.499293\n",
       "Citations_Per_Faculty_Score    0.273808\n",
       "Faculty_Student_Score          0.219142\n",
       "International_Student_Score    0.216478\n",
       "International_Faculty_Score    0.195638\n",
       "Research_Intensity             0.188801\n",
       "Classification_Focus           0.056020\n",
       "Classification_Size            0.047587\n",
       "Status                         0.031793\n",
       "Name: MI Score, dtype: float64"
      ]
     },
     "execution_count": 6,
     "metadata": {},
     "output_type": "execute_result"
    }
   ],
   "source": [
    "from sklearn.feature_selection import mutual_info_regression\n",
    "\n",
    "def make_mi_scores(X, y, discrete_features):\n",
    "    mi_scores = mutual_info_regression(X, y, discrete_features=discrete_features)\n",
    "    mi_scores = pd.Series(mi_scores, name=\"MI Score\", index=X.columns)\n",
    "    mi_scores = mi_scores.sort_values(ascending=False)\n",
    "    \n",
    "    return mi_scores\n",
    "\n",
    "mi_scores = make_mi_scores(X, y, discrete_features)\n",
    "mi_scores # show a few features with their MI Scores"
   ]
  },
  {
   "cell_type": "code",
   "execution_count": 7,
   "id": "008c3040",
   "metadata": {
    "ExecuteTime": {
     "end_time": "2022-08-19T22:04:26.098149Z",
     "start_time": "2022-08-19T22:04:25.674209Z"
    }
   },
   "outputs": [
    {
     "data": {
      "text/plain": [
       "Text(0.5, 1.0, 'Mutual Information Scores of Potential Model Features')"
      ]
     },
     "execution_count": 7,
     "metadata": {},
     "output_type": "execute_result"
    },
    {
     "data": {
      "image/png": "[encoded data removed]",
      "text/plain": [
       "<Figure size 720x480 with 1 Axes>"
      ]
     },
     "metadata": {
      "needs_background": "light"
     },
     "output_type": "display_data"
    }
   ],
   "source": [
    "#  Visualising MI scores\n",
    "plt.figure(dpi=120)\n",
    "sns.barplot(x = mi_scores.values, y = mi_scores.index)\n",
    "plt.title('Mutual Information Scores of Potential Model Features')"
   ]
  },
  {
   "cell_type": "markdown",
   "id": "5655ab7f",
   "metadata": {},
   "source": [
    "As seen from the barplot above, the highest mutual information scores were gotten at Academic_Reputation_Score, Employer_Reputation_Score and Citations_Per_Faculty_score. For model building however, the top 7 highest scoring attributes will be selected as model features.\n",
    "\n",
    "We'll be excluding Classification_Focus, Classification_Size and Status from our model building"
   ]
  },
  {
   "cell_type": "markdown",
   "id": "457748d7",
   "metadata": {},
   "source": [
    "#### Creating Feature Matrix"
   ]
  },
  {
   "cell_type": "code",
   "execution_count": 8,
   "id": "70e455ef",
   "metadata": {
    "ExecuteTime": {
     "end_time": "2022-08-19T22:04:26.114142Z",
     "start_time": "2022-08-19T22:04:26.101150Z"
    }
   },
   "outputs": [
    {
     "data": {
      "text/plain": [
       "['Academic_Reputation_Score',\n",
       " 'Employer_Reputation_Score',\n",
       " 'Citations_Per_Faculty_Score',\n",
       " 'Faculty_Student_Score',\n",
       " 'International_Student_Score',\n",
       " 'International_Faculty_Score',\n",
       " 'Research_Intensity']"
      ]
     },
     "execution_count": 8,
     "metadata": {},
     "output_type": "execute_result"
    }
   ],
   "source": [
    "# First, we'll be dropping the features we don't need\n",
    "vital_features = [ind for ind in mi_scores.index[:7]]\n",
    "vital_features"
   ]
  },
  {
   "cell_type": "code",
   "execution_count": 9,
   "id": "e00e22dd",
   "metadata": {
    "ExecuteTime": {
     "end_time": "2022-08-19T22:04:26.301693Z",
     "start_time": "2022-08-19T22:04:26.118139Z"
    }
   },
   "outputs": [],
   "source": [
    "#  Reassinging feature matrix\n",
    "df_model.drop(labels=['Classification_Focus','Classification_Size','Status' ], axis=1, inplace=True)    "
   ]
  },
  {
   "cell_type": "code",
   "execution_count": 10,
   "id": "d17e6a8a",
   "metadata": {
    "ExecuteTime": {
     "end_time": "2022-08-19T22:04:26.459240Z",
     "start_time": "2022-08-19T22:04:26.315622Z"
    }
   },
   "outputs": [
    {
     "data": {
      "text/plain": [
       "VH    1668\n",
       "HI     607\n",
       "MD     184\n",
       "LO      44\n",
       "Name: Research_Intensity, dtype: int64"
      ]
     },
     "execution_count": 10,
     "metadata": {},
     "output_type": "execute_result"
    }
   ],
   "source": [
    "# Recall, we label encoded the Research intensity column when doing the Mutual Information Scoring\n",
    "df_model['Research_Intensity'].value_counts()"
   ]
  },
  {
   "cell_type": "markdown",
   "id": "22f5ca60",
   "metadata": {},
   "source": [
    "The labels represents;\n",
    "- 0 = VH( Very High Intense)\n",
    "- 1 = HI( High Intensity)\n",
    "- 2 = MD(Medium Intensity)\n",
    "- 3 = LO(Low Intensity\n",
    "\n",
    "We have to One-Hot-Encode the Research Intensity Labels, so our model won't see labels with high values as more important"
   ]
  },
  {
   "cell_type": "code",
   "execution_count": 11,
   "id": "60f503a3",
   "metadata": {
    "ExecuteTime": {
     "end_time": "2022-08-19T22:04:26.616049Z",
     "start_time": "2022-08-19T22:04:26.463229Z"
    }
   },
   "outputs": [
    {
     "data": {
      "text/html": [
       "<div>\n",
       "<style scoped>\n",
       "    .dataframe tbody tr th:only-of-type {\n",
       "        vertical-align: middle;\n",
       "    }\n",
       "\n",
       "    .dataframe tbody tr th {\n",
       "        vertical-align: top;\n",
       "    }\n",
       "\n",
       "    .dataframe thead th {\n",
       "        text-align: right;\n",
       "    }\n",
       "</style>\n",
       "<table border=\"1\" class=\"dataframe\">\n",
       "  <thead>\n",
       "    <tr style=\"text-align: right;\">\n",
       "      <th></th>\n",
       "      <th>Academic_Reputation_Score</th>\n",
       "      <th>Employer_Reputation_Score</th>\n",
       "      <th>Faculty_Student_Score</th>\n",
       "      <th>Citations_Per_Faculty_Score</th>\n",
       "      <th>International_Faculty_Score</th>\n",
       "      <th>International_Student_Score</th>\n",
       "      <th>Overall_Score</th>\n",
       "      <th>Research_Intensity_HI</th>\n",
       "      <th>Research_Intensity_LO</th>\n",
       "      <th>Research_Intensity_MD</th>\n",
       "      <th>Research_Intensity_VH</th>\n",
       "    </tr>\n",
       "  </thead>\n",
       "  <tbody>\n",
       "    <tr>\n",
       "      <th>0</th>\n",
       "      <td>100.0</td>\n",
       "      <td>100.0</td>\n",
       "      <td>100.0</td>\n",
       "      <td>99.9</td>\n",
       "      <td>100.0</td>\n",
       "      <td>96.1</td>\n",
       "      <td>100.0</td>\n",
       "      <td>0</td>\n",
       "      <td>0</td>\n",
       "      <td>0</td>\n",
       "      <td>1</td>\n",
       "    </tr>\n",
       "    <tr>\n",
       "      <th>1</th>\n",
       "      <td>100.0</td>\n",
       "      <td>100.0</td>\n",
       "      <td>100.0</td>\n",
       "      <td>99.4</td>\n",
       "      <td>99.6</td>\n",
       "      <td>72.7</td>\n",
       "      <td>98.7</td>\n",
       "      <td>0</td>\n",
       "      <td>0</td>\n",
       "      <td>0</td>\n",
       "      <td>1</td>\n",
       "    </tr>\n",
       "    <tr>\n",
       "      <th>2</th>\n",
       "      <td>100.0</td>\n",
       "      <td>100.0</td>\n",
       "      <td>98.3</td>\n",
       "      <td>99.9</td>\n",
       "      <td>96.5</td>\n",
       "      <td>75.2</td>\n",
       "      <td>98.4</td>\n",
       "      <td>0</td>\n",
       "      <td>0</td>\n",
       "      <td>0</td>\n",
       "      <td>1</td>\n",
       "    </tr>\n",
       "    <tr>\n",
       "      <th>3</th>\n",
       "      <td>99.5</td>\n",
       "      <td>85.4</td>\n",
       "      <td>100.0</td>\n",
       "      <td>100.0</td>\n",
       "      <td>93.4</td>\n",
       "      <td>89.2</td>\n",
       "      <td>97.7</td>\n",
       "      <td>0</td>\n",
       "      <td>0</td>\n",
       "      <td>0</td>\n",
       "      <td>1</td>\n",
       "    </tr>\n",
       "    <tr>\n",
       "      <th>4</th>\n",
       "      <td>100.0</td>\n",
       "      <td>100.0</td>\n",
       "      <td>100.0</td>\n",
       "      <td>78.3</td>\n",
       "      <td>97.4</td>\n",
       "      <td>97.7</td>\n",
       "      <td>95.6</td>\n",
       "      <td>0</td>\n",
       "      <td>0</td>\n",
       "      <td>0</td>\n",
       "      <td>1</td>\n",
       "    </tr>\n",
       "  </tbody>\n",
       "</table>\n",
       "</div>"
      ],
      "text/plain": [
       "   Academic_Reputation_Score  Employer_Reputation_Score  \\\n",
       "0                      100.0                      100.0   \n",
       "1                      100.0                      100.0   \n",
       "2                      100.0                      100.0   \n",
       "3                       99.5                       85.4   \n",
       "4                      100.0                      100.0   \n",
       "\n",
       "   Faculty_Student_Score  Citations_Per_Faculty_Score  \\\n",
       "0                  100.0                         99.9   \n",
       "1                  100.0                         99.4   \n",
       "2                   98.3                         99.9   \n",
       "3                  100.0                        100.0   \n",
       "4                  100.0                         78.3   \n",
       "\n",
       "   International_Faculty_Score  International_Student_Score  Overall_Score  \\\n",
       "0                        100.0                         96.1          100.0   \n",
       "1                         99.6                         72.7           98.7   \n",
       "2                         96.5                         75.2           98.4   \n",
       "3                         93.4                         89.2           97.7   \n",
       "4                         97.4                         97.7           95.6   \n",
       "\n",
       "   Research_Intensity_HI  Research_Intensity_LO  Research_Intensity_MD  \\\n",
       "0                      0                      0                      0   \n",
       "1                      0                      0                      0   \n",
       "2                      0                      0                      0   \n",
       "3                      0                      0                      0   \n",
       "4                      0                      0                      0   \n",
       "\n",
       "   Research_Intensity_VH  \n",
       "0                      1  \n",
       "1                      1  \n",
       "2                      1  \n",
       "3                      1  \n",
       "4                      1  "
      ]
     },
     "execution_count": 11,
     "metadata": {},
     "output_type": "execute_result"
    }
   ],
   "source": [
    "df_model = pd.get_dummies(df_model, columns =[\"Research_Intensity\"], drop_first = False)\n",
    "df_model.head()"
   ]
  },
  {
   "cell_type": "code",
   "execution_count": 12,
   "id": "f1a8c1ca",
   "metadata": {
    "ExecuteTime": {
     "end_time": "2022-08-19T22:04:26.756407Z",
     "start_time": "2022-08-19T22:04:26.619049Z"
    }
   },
   "outputs": [],
   "source": [
    "y = df_model['Overall_Score']\n",
    "X = df_model.drop(columns=['Overall_Score'], axis=1)"
   ]
  },
  {
   "cell_type": "code",
   "execution_count": 13,
   "id": "8c5b52b6",
   "metadata": {
    "ExecuteTime": {
     "end_time": "2022-08-19T22:04:26.944613Z",
     "start_time": "2022-08-19T22:04:26.761409Z"
    }
   },
   "outputs": [
    {
     "data": {
      "text/html": [
       "<div>\n",
       "<style scoped>\n",
       "    .dataframe tbody tr th:only-of-type {\n",
       "        vertical-align: middle;\n",
       "    }\n",
       "\n",
       "    .dataframe tbody tr th {\n",
       "        vertical-align: top;\n",
       "    }\n",
       "\n",
       "    .dataframe thead th {\n",
       "        text-align: right;\n",
       "    }\n",
       "</style>\n",
       "<table border=\"1\" class=\"dataframe\">\n",
       "  <thead>\n",
       "    <tr style=\"text-align: right;\">\n",
       "      <th></th>\n",
       "      <th>Academic_Reputation_Score</th>\n",
       "      <th>Employer_Reputation_Score</th>\n",
       "      <th>Faculty_Student_Score</th>\n",
       "      <th>Citations_Per_Faculty_Score</th>\n",
       "      <th>International_Faculty_Score</th>\n",
       "      <th>International_Student_Score</th>\n",
       "      <th>Research_Intensity_HI</th>\n",
       "      <th>Research_Intensity_LO</th>\n",
       "      <th>Research_Intensity_MD</th>\n",
       "      <th>Research_Intensity_VH</th>\n",
       "    </tr>\n",
       "  </thead>\n",
       "  <tbody>\n",
       "    <tr>\n",
       "      <th>0</th>\n",
       "      <td>100.0</td>\n",
       "      <td>100.0</td>\n",
       "      <td>100.0</td>\n",
       "      <td>99.9</td>\n",
       "      <td>100.0</td>\n",
       "      <td>96.1</td>\n",
       "      <td>0</td>\n",
       "      <td>0</td>\n",
       "      <td>0</td>\n",
       "      <td>1</td>\n",
       "    </tr>\n",
       "    <tr>\n",
       "      <th>1</th>\n",
       "      <td>100.0</td>\n",
       "      <td>100.0</td>\n",
       "      <td>100.0</td>\n",
       "      <td>99.4</td>\n",
       "      <td>99.6</td>\n",
       "      <td>72.7</td>\n",
       "      <td>0</td>\n",
       "      <td>0</td>\n",
       "      <td>0</td>\n",
       "      <td>1</td>\n",
       "    </tr>\n",
       "    <tr>\n",
       "      <th>2</th>\n",
       "      <td>100.0</td>\n",
       "      <td>100.0</td>\n",
       "      <td>98.3</td>\n",
       "      <td>99.9</td>\n",
       "      <td>96.5</td>\n",
       "      <td>75.2</td>\n",
       "      <td>0</td>\n",
       "      <td>0</td>\n",
       "      <td>0</td>\n",
       "      <td>1</td>\n",
       "    </tr>\n",
       "    <tr>\n",
       "      <th>3</th>\n",
       "      <td>99.5</td>\n",
       "      <td>85.4</td>\n",
       "      <td>100.0</td>\n",
       "      <td>100.0</td>\n",
       "      <td>93.4</td>\n",
       "      <td>89.2</td>\n",
       "      <td>0</td>\n",
       "      <td>0</td>\n",
       "      <td>0</td>\n",
       "      <td>1</td>\n",
       "    </tr>\n",
       "    <tr>\n",
       "      <th>4</th>\n",
       "      <td>100.0</td>\n",
       "      <td>100.0</td>\n",
       "      <td>100.0</td>\n",
       "      <td>78.3</td>\n",
       "      <td>97.4</td>\n",
       "      <td>97.7</td>\n",
       "      <td>0</td>\n",
       "      <td>0</td>\n",
       "      <td>0</td>\n",
       "      <td>1</td>\n",
       "    </tr>\n",
       "    <tr>\n",
       "      <th>...</th>\n",
       "      <td>...</td>\n",
       "      <td>...</td>\n",
       "      <td>...</td>\n",
       "      <td>...</td>\n",
       "      <td>...</td>\n",
       "      <td>...</td>\n",
       "      <td>...</td>\n",
       "      <td>...</td>\n",
       "      <td>...</td>\n",
       "      <td>...</td>\n",
       "    </tr>\n",
       "    <tr>\n",
       "      <th>2498</th>\n",
       "      <td>34.9</td>\n",
       "      <td>25.1</td>\n",
       "      <td>28.8</td>\n",
       "      <td>24.6</td>\n",
       "      <td>13.4</td>\n",
       "      <td>47.4</td>\n",
       "      <td>0</td>\n",
       "      <td>0</td>\n",
       "      <td>0</td>\n",
       "      <td>1</td>\n",
       "    </tr>\n",
       "    <tr>\n",
       "      <th>2499</th>\n",
       "      <td>34.6</td>\n",
       "      <td>26.8</td>\n",
       "      <td>26.3</td>\n",
       "      <td>28.8</td>\n",
       "      <td>36.0</td>\n",
       "      <td>2.6</td>\n",
       "      <td>0</td>\n",
       "      <td>0</td>\n",
       "      <td>0</td>\n",
       "      <td>1</td>\n",
       "    </tr>\n",
       "    <tr>\n",
       "      <th>2500</th>\n",
       "      <td>31.9</td>\n",
       "      <td>21.7</td>\n",
       "      <td>34.4</td>\n",
       "      <td>18.9</td>\n",
       "      <td>44.1</td>\n",
       "      <td>7.2</td>\n",
       "      <td>0</td>\n",
       "      <td>0</td>\n",
       "      <td>0</td>\n",
       "      <td>1</td>\n",
       "    </tr>\n",
       "    <tr>\n",
       "      <th>2501</th>\n",
       "      <td>33.3</td>\n",
       "      <td>18.4</td>\n",
       "      <td>39.2</td>\n",
       "      <td>21.9</td>\n",
       "      <td>100.0</td>\n",
       "      <td>40.6</td>\n",
       "      <td>1</td>\n",
       "      <td>0</td>\n",
       "      <td>0</td>\n",
       "      <td>0</td>\n",
       "    </tr>\n",
       "    <tr>\n",
       "      <th>2502</th>\n",
       "      <td>17.0</td>\n",
       "      <td>22.9</td>\n",
       "      <td>16.6</td>\n",
       "      <td>23.4</td>\n",
       "      <td>21.9</td>\n",
       "      <td>26.6</td>\n",
       "      <td>1</td>\n",
       "      <td>0</td>\n",
       "      <td>0</td>\n",
       "      <td>0</td>\n",
       "    </tr>\n",
       "  </tbody>\n",
       "</table>\n",
       "<p>2503 rows × 10 columns</p>\n",
       "</div>"
      ],
      "text/plain": [
       "      Academic_Reputation_Score  Employer_Reputation_Score  \\\n",
       "0                         100.0                      100.0   \n",
       "1                         100.0                      100.0   \n",
       "2                         100.0                      100.0   \n",
       "3                          99.5                       85.4   \n",
       "4                         100.0                      100.0   \n",
       "...                         ...                        ...   \n",
       "2498                       34.9                       25.1   \n",
       "2499                       34.6                       26.8   \n",
       "2500                       31.9                       21.7   \n",
       "2501                       33.3                       18.4   \n",
       "2502                       17.0                       22.9   \n",
       "\n",
       "      Faculty_Student_Score  Citations_Per_Faculty_Score  \\\n",
       "0                     100.0                         99.9   \n",
       "1                     100.0                         99.4   \n",
       "2                      98.3                         99.9   \n",
       "3                     100.0                        100.0   \n",
       "4                     100.0                         78.3   \n",
       "...                     ...                          ...   \n",
       "2498                   28.8                         24.6   \n",
       "2499                   26.3                         28.8   \n",
       "2500                   34.4                         18.9   \n",
       "2501                   39.2                         21.9   \n",
       "2502                   16.6                         23.4   \n",
       "\n",
       "      International_Faculty_Score  International_Student_Score  \\\n",
       "0                           100.0                         96.1   \n",
       "1                            99.6                         72.7   \n",
       "2                            96.5                         75.2   \n",
       "3                            93.4                         89.2   \n",
       "4                            97.4                         97.7   \n",
       "...                           ...                          ...   \n",
       "2498                         13.4                         47.4   \n",
       "2499                         36.0                          2.6   \n",
       "2500                         44.1                          7.2   \n",
       "2501                        100.0                         40.6   \n",
       "2502                         21.9                         26.6   \n",
       "\n",
       "      Research_Intensity_HI  Research_Intensity_LO  Research_Intensity_MD  \\\n",
       "0                         0                      0                      0   \n",
       "1                         0                      0                      0   \n",
       "2                         0                      0                      0   \n",
       "3                         0                      0                      0   \n",
       "4                         0                      0                      0   \n",
       "...                     ...                    ...                    ...   \n",
       "2498                      0                      0                      0   \n",
       "2499                      0                      0                      0   \n",
       "2500                      0                      0                      0   \n",
       "2501                      1                      0                      0   \n",
       "2502                      1                      0                      0   \n",
       "\n",
       "      Research_Intensity_VH  \n",
       "0                         1  \n",
       "1                         1  \n",
       "2                         1  \n",
       "3                         1  \n",
       "4                         1  \n",
       "...                     ...  \n",
       "2498                      1  \n",
       "2499                      1  \n",
       "2500                      1  \n",
       "2501                      0  \n",
       "2502                      0  \n",
       "\n",
       "[2503 rows x 10 columns]"
      ]
     },
     "execution_count": 13,
     "metadata": {},
     "output_type": "execute_result"
    }
   ],
   "source": [
    "X"
   ]
  },
  {
   "cell_type": "markdown",
   "id": "e8d3bd4d",
   "metadata": {},
   "source": [
    "### Data Preprocessing"
   ]
  },
  {
   "cell_type": "code",
   "execution_count": 14,
   "id": "1588f9d4",
   "metadata": {
    "ExecuteTime": {
     "end_time": "2022-08-19T22:04:27.101317Z",
     "start_time": "2022-08-19T22:04:26.948612Z"
    }
   },
   "outputs": [
    {
     "data": {
      "text/html": [
       "<div>\n",
       "<style scoped>\n",
       "    .dataframe tbody tr th:only-of-type {\n",
       "        vertical-align: middle;\n",
       "    }\n",
       "\n",
       "    .dataframe tbody tr th {\n",
       "        vertical-align: top;\n",
       "    }\n",
       "\n",
       "    .dataframe thead th {\n",
       "        text-align: right;\n",
       "    }\n",
       "</style>\n",
       "<table border=\"1\" class=\"dataframe\">\n",
       "  <thead>\n",
       "    <tr style=\"text-align: right;\">\n",
       "      <th></th>\n",
       "      <th>Academic_Reputation_Score</th>\n",
       "      <th>Employer_Reputation_Score</th>\n",
       "      <th>Faculty_Student_Score</th>\n",
       "      <th>Citations_Per_Faculty_Score</th>\n",
       "      <th>International_Faculty_Score</th>\n",
       "      <th>International_Student_Score</th>\n",
       "      <th>Research_Intensity_HI</th>\n",
       "      <th>Research_Intensity_LO</th>\n",
       "      <th>Research_Intensity_MD</th>\n",
       "      <th>Research_Intensity_VH</th>\n",
       "    </tr>\n",
       "  </thead>\n",
       "  <tbody>\n",
       "    <tr>\n",
       "      <th>0</th>\n",
       "      <td>1.000000</td>\n",
       "      <td>1.000000</td>\n",
       "      <td>1.0000</td>\n",
       "      <td>0.998990</td>\n",
       "      <td>1.000000</td>\n",
       "      <td>0.960606</td>\n",
       "      <td>0.0</td>\n",
       "      <td>0.0</td>\n",
       "      <td>0.0</td>\n",
       "      <td>1.0</td>\n",
       "    </tr>\n",
       "    <tr>\n",
       "      <th>1</th>\n",
       "      <td>1.000000</td>\n",
       "      <td>1.000000</td>\n",
       "      <td>1.0000</td>\n",
       "      <td>0.993939</td>\n",
       "      <td>0.995947</td>\n",
       "      <td>0.724242</td>\n",
       "      <td>0.0</td>\n",
       "      <td>0.0</td>\n",
       "      <td>0.0</td>\n",
       "      <td>1.0</td>\n",
       "    </tr>\n",
       "    <tr>\n",
       "      <th>2</th>\n",
       "      <td>1.000000</td>\n",
       "      <td>1.000000</td>\n",
       "      <td>0.9826</td>\n",
       "      <td>0.998990</td>\n",
       "      <td>0.964539</td>\n",
       "      <td>0.749495</td>\n",
       "      <td>0.0</td>\n",
       "      <td>0.0</td>\n",
       "      <td>0.0</td>\n",
       "      <td>1.0</td>\n",
       "    </tr>\n",
       "    <tr>\n",
       "      <th>3</th>\n",
       "      <td>0.994944</td>\n",
       "      <td>0.851172</td>\n",
       "      <td>1.0000</td>\n",
       "      <td>1.000000</td>\n",
       "      <td>0.933131</td>\n",
       "      <td>0.890909</td>\n",
       "      <td>0.0</td>\n",
       "      <td>0.0</td>\n",
       "      <td>0.0</td>\n",
       "      <td>1.0</td>\n",
       "    </tr>\n",
       "    <tr>\n",
       "      <th>4</th>\n",
       "      <td>1.000000</td>\n",
       "      <td>1.000000</td>\n",
       "      <td>1.0000</td>\n",
       "      <td>0.780808</td>\n",
       "      <td>0.973658</td>\n",
       "      <td>0.976768</td>\n",
       "      <td>0.0</td>\n",
       "      <td>0.0</td>\n",
       "      <td>0.0</td>\n",
       "      <td>1.0</td>\n",
       "    </tr>\n",
       "  </tbody>\n",
       "</table>\n",
       "</div>"
      ],
      "text/plain": [
       "   Academic_Reputation_Score  Employer_Reputation_Score  \\\n",
       "0                   1.000000                   1.000000   \n",
       "1                   1.000000                   1.000000   \n",
       "2                   1.000000                   1.000000   \n",
       "3                   0.994944                   0.851172   \n",
       "4                   1.000000                   1.000000   \n",
       "\n",
       "   Faculty_Student_Score  Citations_Per_Faculty_Score  \\\n",
       "0                 1.0000                     0.998990   \n",
       "1                 1.0000                     0.993939   \n",
       "2                 0.9826                     0.998990   \n",
       "3                 1.0000                     1.000000   \n",
       "4                 1.0000                     0.780808   \n",
       "\n",
       "   International_Faculty_Score  International_Student_Score  \\\n",
       "0                     1.000000                     0.960606   \n",
       "1                     0.995947                     0.724242   \n",
       "2                     0.964539                     0.749495   \n",
       "3                     0.933131                     0.890909   \n",
       "4                     0.973658                     0.976768   \n",
       "\n",
       "   Research_Intensity_HI  Research_Intensity_LO  Research_Intensity_MD  \\\n",
       "0                    0.0                    0.0                    0.0   \n",
       "1                    0.0                    0.0                    0.0   \n",
       "2                    0.0                    0.0                    0.0   \n",
       "3                    0.0                    0.0                    0.0   \n",
       "4                    0.0                    0.0                    0.0   \n",
       "\n",
       "   Research_Intensity_VH  \n",
       "0                    1.0  \n",
       "1                    1.0  \n",
       "2                    1.0  \n",
       "3                    1.0  \n",
       "4                    1.0  "
      ]
     },
     "execution_count": 14,
     "metadata": {},
     "output_type": "execute_result"
    }
   ],
   "source": [
    "# We'll be using MinMaxScaler to scale our Data\n",
    "scaler = MinMaxScaler()\n",
    "data_model = pd.DataFrame(scaler.fit_transform(X), columns=X.columns)\n",
    "data_model.head()"
   ]
  },
  {
   "cell_type": "markdown",
   "id": "b4ed9166",
   "metadata": {},
   "source": [
    "#### Splitting the Data\n",
    "\n",
    "We'll be initially splitting into training and test, then later split the training set into training and validation\n",
    "I do this with proportion 80 % of total data are training dataset and the rest are test dataset. Then I split the training dataset again in to two parts training and validation dataset. The second splitting I use proportion 80% of the training data are training data and the rest of data are validation dataset."
   ]
  },
  {
   "cell_type": "code",
   "execution_count": 15,
   "id": "2f1fb3cf",
   "metadata": {
    "ExecuteTime": {
     "end_time": "2022-08-19T22:04:27.195248Z",
     "start_time": "2022-08-19T22:04:27.105312Z"
    }
   },
   "outputs": [],
   "source": [
    "X_train, x_test, y_train, y_test = train_test_split(X, y, test_size=0.2, random_state=0)"
   ]
  },
  {
   "cell_type": "code",
   "execution_count": 16,
   "id": "83ef340c",
   "metadata": {
    "ExecuteTime": {
     "end_time": "2022-08-19T22:04:27.334292Z",
     "start_time": "2022-08-19T22:04:27.198256Z"
    }
   },
   "outputs": [],
   "source": [
    "xTrain, xVal, yTrain, yVal = train_test_split(X_train, y_train, test_size=0.2, random_state=0)"
   ]
  },
  {
   "cell_type": "markdown",
   "id": "47ffc95c",
   "metadata": {},
   "source": [
    "### Modelling\n",
    "\n",
    "We'll be making use of linearRegression algorithm, RandomForest algorithm and DecisionTree algorithm"
   ]
  },
  {
   "cell_type": "markdown",
   "id": "5cafce0f",
   "metadata": {},
   "source": [
    "#### Fitting and validating baseline models\n",
    "\n",
    "Fitting the model and getting the following metrics for each algorithms;\n",
    "- mae of each algorithms\n",
    "- mse of each algorithms\n",
    "- R_Squared"
   ]
  },
  {
   "cell_type": "code",
   "execution_count": 17,
   "id": "b88d062d",
   "metadata": {
    "ExecuteTime": {
     "end_time": "2022-08-19T22:04:28.608947Z",
     "start_time": "2022-08-19T22:04:27.341304Z"
    }
   },
   "outputs": [
    {
     "data": {
      "text/html": [
       "<div>\n",
       "<style scoped>\n",
       "    .dataframe tbody tr th:only-of-type {\n",
       "        vertical-align: middle;\n",
       "    }\n",
       "\n",
       "    .dataframe tbody tr th {\n",
       "        vertical-align: top;\n",
       "    }\n",
       "\n",
       "    .dataframe thead th {\n",
       "        text-align: right;\n",
       "    }\n",
       "</style>\n",
       "<table border=\"1\" class=\"dataframe\">\n",
       "  <thead>\n",
       "    <tr style=\"text-align: right;\">\n",
       "      <th></th>\n",
       "      <th>model</th>\n",
       "      <th>best_score</th>\n",
       "      <th>mean_squared_error</th>\n",
       "      <th>mean_absolute_error</th>\n",
       "      <th>R_Squared</th>\n",
       "    </tr>\n",
       "  </thead>\n",
       "  <tbody>\n",
       "    <tr>\n",
       "      <th>0</th>\n",
       "      <td>LinearRegression()</td>\n",
       "      <td>0.781442</td>\n",
       "      <td>84.864504</td>\n",
       "      <td>7.104788</td>\n",
       "      <td>0.816503</td>\n",
       "    </tr>\n",
       "    <tr>\n",
       "      <th>1</th>\n",
       "      <td>(DecisionTreeRegressor(max_features=1.0, rando...</td>\n",
       "      <td>0.986180</td>\n",
       "      <td>28.196077</td>\n",
       "      <td>3.778035</td>\n",
       "      <td>0.939033</td>\n",
       "    </tr>\n",
       "    <tr>\n",
       "      <th>2</th>\n",
       "      <td>DecisionTreeRegressor()</td>\n",
       "      <td>1.000000</td>\n",
       "      <td>58.711147</td>\n",
       "      <td>5.072070</td>\n",
       "      <td>0.873053</td>\n",
       "    </tr>\n",
       "  </tbody>\n",
       "</table>\n",
       "</div>"
      ],
      "text/plain": [
       "                                               model  best_score  \\\n",
       "0                                 LinearRegression()    0.781442   \n",
       "1  (DecisionTreeRegressor(max_features=1.0, rando...    0.986180   \n",
       "2                            DecisionTreeRegressor()    1.000000   \n",
       "\n",
       "   mean_squared_error  mean_absolute_error  R_Squared  \n",
       "0           84.864504             7.104788   0.816503  \n",
       "1           28.196077             3.778035   0.939033  \n",
       "2           58.711147             5.072070   0.873053  "
      ]
     },
     "execution_count": 17,
     "metadata": {},
     "output_type": "execute_result"
    }
   ],
   "source": [
    "def model_train(xTrain, yTrain, xVal, yVal):\n",
    "    random_seed= 0\n",
    "    all_models = [LinearRegression(), RandomForestRegressor(), DecisionTreeRegressor()]\n",
    "    scores = []\n",
    "    for i in all_models:\n",
    "        model = i\n",
    "        model.fit(xTrain, yTrain)\n",
    "        y_predicted = model.predict(xVal)\n",
    "        mse = mean_squared_error(yVal, y_predicted)\n",
    "        mae = mean_absolute_error(yVal, y_predicted)\n",
    "        r_squared = r2_score(yVal, y_predicted)\n",
    "        scores.append({\n",
    "            'model':i,\n",
    "            'best_score':model.score(xTrain, yTrain),\n",
    "            'mean_squared_error':mse,\n",
    "            'mean_absolute_error':mae,\n",
    "            'R_Squared': r_squared\n",
    "        })\n",
    "    return pd.DataFrame(scores, columns=['model','best_score','mean_squared_error','mean_absolute_error', 'R_Squared'])\n",
    "\n",
    "model_train(xTrain, yTrain, xVal, yVal)"
   ]
  },
  {
   "cell_type": "markdown",
   "id": "3c8a40a6",
   "metadata": {},
   "source": [
    "The Second model is the Randomforest.\n",
    "\n",
    "The RandomForest model will be chosen for having the best performance amongst the models used for training and validation.\n",
    "\n",
    "The RandomForest model produced the smallest mean_abosolute error and the highest R_Squared value."
   ]
  },
  {
   "cell_type": "markdown",
   "id": "25ab5cfc",
   "metadata": {},
   "source": [
    "#### Fitting and Testing the final model (RandomForest)"
   ]
  },
  {
   "cell_type": "code",
   "execution_count": 20,
   "id": "3707de8a",
   "metadata": {
    "ExecuteTime": {
     "end_time": "2022-08-19T22:06:16.799374Z",
     "start_time": "2022-08-19T22:06:05.783572Z"
    }
   },
   "outputs": [
    {
     "name": "stdout",
     "output_type": "stream",
     "text": [
      "This is MAE score of final model: 4.043\n",
      "This is the Score of the final model: 0.91\n"
     ]
    }
   ],
   "source": [
    "rf_model = RandomForestRegressor(max_features=1.0, bootstrap=True, criterion='mae')\n",
    "rf_model.fit(X_train, y_train)\n",
    "final_pred = rf_model.predict(x_test)\n",
    "mae_final = mean_absolute_error(y_test, final_pred)\n",
    "model_score = rf_model.score(x_test, y_test)\n",
    "print('This is MAE score of final model:', round(mae_final, 3))\n",
    "print('This is the Score of the final model:', round(model_score, 2))"
   ]
  },
  {
   "cell_type": "markdown",
   "id": "06ca467c",
   "metadata": {},
   "source": [
    "### Model Explainer\n",
    "\n",
    "Model explanation will be done using SHAP values. SHAP values help to determine the contribution of each feature to the predicted Overall score"
   ]
  },
  {
   "cell_type": "code",
   "execution_count": 19,
   "id": "705281a2",
   "metadata": {
    "ExecuteTime": {
     "end_time": "2022-08-19T22:05:10.644507Z",
     "start_time": "2022-08-19T22:04:39.406588Z"
    }
   },
   "outputs": [
    {
     "data": {
      "image/png": "[encoded data removed]",
      "text/plain": [
       "<Figure size 800x550 with 2 Axes>"
      ]
     },
     "metadata": {
      "needs_background": "light"
     },
     "output_type": "display_data"
    }
   ],
   "source": [
    "import shap # package used to calculate Shap values\n",
    "\n",
    "# Create object that can calculate shap values\n",
    "explainer = shap.TreeExplainer(rf_model)\n",
    "\n",
    "# Calculate shap values. This what we will plot.\n",
    "# Calculate shap_values for all of X_test\n",
    "shap_values = explainer.shap_values(x_test)\n",
    "\n",
    "# Make plot. Index of [1] is explained in text below\n",
    "plt.figure(dpi=100)\n",
    "shap.summary_plot(shap_values, x_test)"
   ]
  },
  {
   "cell_type": "markdown",
   "id": "24df49d0",
   "metadata": {},
   "source": [
    "The SHAP summary_plot above shows;\n",
    "\n",
    "- High values of Academic_Reputaion_Score leads to higher Overall score which can help increase a university's rank.\n",
    "- We can also see that Very High research intensity contributes to higher rankings of universities.\n",
    "- Universities having just High, Medium & Low research intensity rates doesn't affect their rank.\n",
    "- High International Faculty score also contributes to higher rankings of universities i.e higher ranking universities provide a multinational environment, building international sympathies and global awareness which has impacted their rank Scores "
   ]
  },
  {
   "cell_type": "code",
   "execution_count": null,
   "id": "ef2fdd1a",
   "metadata": {},
   "outputs": [],
   "source": []
  },
  {
   "cell_type": "code",
   "execution_count": null,
   "id": "ec43d3c4",
   "metadata": {},
   "outputs": [],
   "source": []
  },
  {
   "cell_type": "code",
   "execution_count": null,
   "id": "c1955c6b",
   "metadata": {},
   "outputs": [],
   "source": []
  },
  {
   "cell_type": "code",
   "execution_count": null,
   "id": "a5fd5653",
   "metadata": {},
   "outputs": [],
   "source": []
  },
  {
   "cell_type": "code",
   "execution_count": null,
   "id": "d8fb4a63",
   "metadata": {},
   "outputs": [],
   "source": []
  }
 ],
 "metadata": {
  "kernelspec": {
   "display_name": "Python 3 (ipykernel)",
   "language": "python",
   "name": "python3"
  },
  "language_info": {
   "codemirror_mode": {
    "name": "ipython",
    "version": 3
   },
   "file_extension": ".py",
   "mimetype": "text/x-python",
   "name": "python",
   "nbconvert_exporter": "python",
   "pygments_lexer": "ipython3",
   "version": "3.9.7"
  },
  "toc": {
   "base_numbering": 1,
   "nav_menu": {},
   "number_sections": true,
   "sideBar": true,
   "skip_h1_title": false,
   "title_cell": "Table of Contents",
   "title_sidebar": "Contents",
   "toc_cell": false,
   "toc_position": {},
   "toc_section_display": true,
   "toc_window_display": false
  },
  "varInspector": {
   "cols": {
    "lenName": 16,
    "lenType": 16,
    "lenVar": 40
   },
   "kernels_config": {
    "python": {
     "delete_cmd_postfix": "",
     "delete_cmd_prefix": "del ",
     "library": "var_list.py",
     "varRefreshCmd": "print(var_dic_list())"
    },
    "r": {
     "delete_cmd_postfix": ") ",
     "delete_cmd_prefix": "rm(",
     "library": "var_list.r",
     "varRefreshCmd": "cat(var_dic_list()) "
    }
   },
   "types_to_exclude": [
    "module",
    "function",
    "builtin_function_or_method",
    "instance",
    "_Feature"
   ],
   "window_display": false
  }
 },
 "nbformat": 4,
 "nbformat_minor": 5
}
